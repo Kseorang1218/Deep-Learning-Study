{
 "cells": [
  {
   "cell_type": "code",
   "execution_count": 10,
   "metadata": {},
   "outputs": [
    {
     "ename": "FileNotFoundError",
     "evalue": "[Errno 2] No such file or directory: '../data/fan_0dB/id_06/normal/00001015.wav' -> '../data/fan_0dB/id_06/normal_renamed/00004075.wav'",
     "output_type": "error",
     "traceback": [
      "\u001b[0;31m---------------------------------------------------------------------------\u001b[0m",
      "\u001b[0;31mFileNotFoundError\u001b[0m                         Traceback (most recent call last)",
      "Cell \u001b[0;32mIn[10], line 28\u001b[0m\n\u001b[1;32m     26\u001b[0m start_index \u001b[38;5;241m+\u001b[39m\u001b[38;5;241m=\u001b[39m \u001b[38;5;241m1\u001b[39m\n\u001b[1;32m     27\u001b[0m \u001b[38;5;66;03m# 파일을 이동\u001b[39;00m\n\u001b[0;32m---> 28\u001b[0m \u001b[43mos\u001b[49m\u001b[38;5;241;43m.\u001b[39;49m\u001b[43mrename\u001b[49m\u001b[43m(\u001b[49m\u001b[43mos\u001b[49m\u001b[38;5;241;43m.\u001b[39;49m\u001b[43mpath\u001b[49m\u001b[38;5;241;43m.\u001b[39;49m\u001b[43mjoin\u001b[49m\u001b[43m(\u001b[49m\u001b[43msource_dir\u001b[49m\u001b[43m,\u001b[49m\u001b[43m \u001b[49m\u001b[43mold_filename\u001b[49m\u001b[43m)\u001b[49m\u001b[43m,\u001b[49m\u001b[43m \u001b[49m\u001b[43mos\u001b[49m\u001b[38;5;241;43m.\u001b[39;49m\u001b[43mpath\u001b[49m\u001b[38;5;241;43m.\u001b[39;49m\u001b[43mjoin\u001b[49m\u001b[43m(\u001b[49m\u001b[43mdestination_dir\u001b[49m\u001b[43m,\u001b[49m\u001b[43m \u001b[49m\u001b[43mnew_filename\u001b[49m\u001b[43m)\u001b[49m\u001b[43m)\u001b[49m\n",
      "\u001b[0;31mFileNotFoundError\u001b[0m: [Errno 2] No such file or directory: '../data/fan_0dB/id_06/normal/00001015.wav' -> '../data/fan_0dB/id_06/normal_renamed/00004075.wav'"
     ]
    }
   ],
   "source": [
    "'''\n",
    "파일 이름 바꾸는 코드\n",
    "'''\n",
    "\n",
    "import os\n",
    "import shutil\n",
    "\n",
    "# 기존 파일이 위치한 디렉토리 경로\n",
    "source_dir = \"../data/fan_0dB/id_06/normal\"\n",
    "# 변경된 파일을 저장할 디렉토리 경로\n",
    "destination_dir = \"../data/fan_0dB/id_06/normal_renamed\"\n",
    "\n",
    "# 변경할 파일 이름의 범위\n",
    "start_index = 3060\n",
    "\n",
    "# 대상 디렉토리가 존재하지 않으면 생성\n",
    "if not os.path.exists(destination_dir):\n",
    "    os.makedirs(destination_dir)\n",
    "\n",
    "# 디렉토리 내 파일들을 순회하면서 이름 변경\n",
    "for i in range(0, 4074 + 1):\n",
    "    # 기존 파일 이름\n",
    "    old_filename = f\"{i:08d}.wav\"\n",
    "    # 새로운 파일 이름\n",
    "    new_filename = f\"{start_index:08d}.wav\"\n",
    "    start_index += 1\n",
    "    # 파일을 이동\n",
    "    os.rename(os.path.join(source_dir, old_filename), os.path.join(destination_dir, new_filename))\n"
   ]
  },
  {
   "cell_type": "code",
   "execution_count": 11,
   "metadata": {},
   "outputs": [],
   "source": [
    "'''\n",
    "디렉토리 안 파일들을 이동시키는 코드\n",
    "'''\n",
    "\n",
    "import os\n",
    "import shutil\n",
    "\n",
    "# 기존 파일이 위치한 디렉토리 경로\n",
    "source_directories = [\"../data/fan_0dB/id_00/normal_renamed\", \"../data/fan_0dB/id_02/normal_renamed\", \"../data/fan_0dB/id_04/normal_renamed\", \"../data/fan_0dB/id_06/normal_renamed\"]\n",
    "# 변경된 파일을 저장할 디렉토리 경로\n",
    "destination_directory = \"../data/fan_0dB/normal\"\n",
    "\n",
    "# 대상 디렉토리가 존재하지 않으면 생성\n",
    "if not os.path.exists(destination_directory):\n",
    "    os.makedirs(destination_directory)\n",
    "\n",
    "# 각 소스 디렉토리에서 파일을 대상 디렉토리로 이동\n",
    "for source_directory in source_directories:\n",
    "    for filename in os.listdir(source_directory):\n",
    "        source_path = os.path.join(source_directory, filename)\n",
    "        destination_path = os.path.join(destination_directory, filename)\n",
    "        # 파일을 이동\n",
    "        shutil.move(source_path, destination_path)\n"
   ]
  },
  {
   "cell_type": "code",
   "execution_count": null,
   "metadata": {},
   "outputs": [],
   "source": []
  }
 ],
 "metadata": {
  "kernelspec": {
   "display_name": "Python 3",
   "language": "python",
   "name": "python3"
  },
  "language_info": {
   "codemirror_mode": {
    "name": "ipython",
    "version": 3
   },
   "file_extension": ".py",
   "mimetype": "text/x-python",
   "name": "python",
   "nbconvert_exporter": "python",
   "pygments_lexer": "ipython3",
   "version": "3.8.10"
  }
 },
 "nbformat": 4,
 "nbformat_minor": 2
}
