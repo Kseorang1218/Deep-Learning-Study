{
 "cells": [
  {
   "cell_type": "code",
   "execution_count": 1,
   "metadata": {},
   "outputs": [
    {
     "name": "stdout",
     "output_type": "stream",
     "text": [
      "../../data/mimii/0_dB/fan.zip already exist.\n",
      "../../data/mimii/0_dB/fan.zip already extracted.\n",
      "../../data/mimii/0_dB/pump.zip already exist.\n",
      "../../data/mimii/0_dB/pump.zip already extracted.\n",
      "../../data/mimii/0_dB/slider.zip already exist.\n",
      "../../data/mimii/0_dB/slider.zip already extracted.\n",
      "../../data/mimii/0_dB/valve.zip already exist.\n",
      "../../data/mimii/0_dB/valve.zip already extracted.\n"
     ]
    }
   ],
   "source": [
    "from download import *\n",
    "from databuilder import *\n",
    "from dataset import *\n",
    "from processing import *\n",
    "\n",
    "from torchvision import transforms\n",
    "\n",
    "df = download_mimii(\"../../data/mimii\", \"0_dB\")"
   ]
  },
  {
   "cell_type": "code",
   "execution_count": 2,
   "metadata": {},
   "outputs": [],
   "source": [
    "params = {\n",
    "    \"batch_size\":32,\n",
    "    \"epoch\": 5,\n",
    "    \"learning_rate\": 0.0001,\n",
    "    \"path\": \"./saved/epoch900/\"\n",
    "}\n",
    "\n",
    "if torch.cuda.is_available():\n",
    "    DEVICE = torch.device('cuda')\n",
    "else:\n",
    "    DEVICE = torch.device('cpu')"
   ]
  },
  {
   "cell_type": "code",
   "execution_count": 3,
   "metadata": {},
   "outputs": [
    {
     "data": {
      "text/plain": [
       "0    14719\n",
       "1     1475\n",
       "2      456\n",
       "3      890\n",
       "4      479\n",
       "Name: label, dtype: int64"
      ]
     },
     "execution_count": 3,
     "metadata": {},
     "output_type": "execute_result"
    }
   ],
   "source": [
    "# df[\"label\"].value_counts()\n",
    "df[\"label\"].value_counts().sort_index()"
   ]
  },
  {
   "cell_type": "code",
   "execution_count": 5,
   "metadata": {},
   "outputs": [
    {
     "name": "stdout",
     "output_type": "stream",
     "text": [
      "(18019, 2)\n",
      "                                                    data  label\n",
      "0      [0.0020599365, 0.004432678, 0.0065078735, 0.00...      1\n",
      "1      [-0.00050354004, -0.00019454956, 0.0007286072,...      1\n",
      "2      [-0.015193939, -0.014381409, -0.013492584, -0....      1\n",
      "3      [0.012817383, 0.013893127, 0.015125275, 0.0149...      1\n",
      "4      [-0.010471344, -0.012817383, -0.015136719, -0....      1\n",
      "...                                                  ...    ...\n",
      "18014  [0.00061798096, 0.0021476746, 0.002922058, 0.0...      0\n",
      "18015  [0.0021514893, 0.0017585754, 0.0011749268, 0.0...      0\n",
      "18016  [0.0040626526, 0.004486084, 0.0033035278, 0.00...      0\n",
      "18017  [-0.0013008118, -0.0023880005, -0.0028762817, ...      0\n",
      "18018  [-0.00031280518, 0.00023651123, 0.00049209595,...      0\n",
      "\n",
      "[18019 rows x 2 columns]\n"
     ]
    }
   ],
   "source": [
    "train_df, val_df, test_df = split_dataframe(df, 0.6, 0.2)\n",
    "# print(train_df.shape)\n",
    "# print(train_df)"
   ]
  },
  {
   "cell_type": "code",
   "execution_count": 6,
   "metadata": {},
   "outputs": [
    {
     "name": "stdout",
     "output_type": "stream",
     "text": [
      "(810855, 4096)\n",
      "[[ 2.0599365e-03  4.4326782e-03  6.5078735e-03 ... -1.8882751e-03\n",
      "  -2.3345947e-03 -3.1280518e-03]\n",
      " [ 2.9563904e-03  2.5138855e-03  3.0975342e-03 ...  9.1590881e-03\n",
      "   7.2135925e-03  7.3356628e-03]\n",
      " [-1.4266968e-03 -3.8146973e-06  8.0108643e-05 ... -6.1149597e-03\n",
      "  -5.3596497e-03 -4.7531128e-03]\n",
      " ...\n",
      " [-3.4980774e-03 -4.1923523e-03 -4.1732788e-03 ...  2.0599365e-04\n",
      "   1.0643005e-03  1.0108948e-03]\n",
      " [ 4.0817261e-04  2.6969910e-03  4.2304993e-03 ...  5.8746338e-03\n",
      "   4.3945312e-03  3.4751892e-03]\n",
      " [ 5.8364868e-04  3.0899048e-04  3.0899048e-04 ... -4.6539307e-04\n",
      "  -5.0735474e-04 -5.4550171e-04]]\n"
     ]
    }
   ],
   "source": [
    "train_data, train_label = build_from_dataframe(train_df, 4096, 4096//2, False)\n",
    "val_data, val_label = build_from_dataframe(val_df, 4096, 4096//2, False)\n",
    "test_data, test_label = build_from_dataframe(test_df, 4096, 4096//2, False)\n",
    "# print(train_data.shape)\n",
    "# print(train_data)"
   ]
  },
  {
   "cell_type": "code",
   "execution_count": 14,
   "metadata": {},
   "outputs": [],
   "source": [
    "transform = transforms.Compose([\n",
    "    melspectogram(),\n",
    "    ExpandDim(),\n",
    "    ReSize(3, 32, 32),\n",
    "    NpToTensor()\n",
    "])"
   ]
  },
  {
   "cell_type": "code",
   "execution_count": 15,
   "metadata": {},
   "outputs": [],
   "source": [
    "train_dataset = NumpyDataset(data=train_data, label=train_label, \n",
    "                             transform=transform, target_transform=NpToTensor())\n",
    "val_dataset = NumpyDataset(data=val_data, label=val_label, \n",
    "                             transform=transform, target_transform=NpToTensor())\n",
    "test_dataset = NumpyDataset(data=test_data, label=test_label, \n",
    "                             transform=transform, target_transform=NpToTensor())\n",
    "\n",
    "# print(train_dataset.data)\n",
    "# print(train_dataset.label)"
   ]
  },
  {
   "cell_type": "code",
   "execution_count": 16,
   "metadata": {},
   "outputs": [],
   "source": [
    "train_loader = get_dataloader(dataset=train_dataset,\n",
    "                              batch_size=params[\"batch_size\"],\n",
    "                              shuffle=True)\n",
    "val_loader = get_dataloader(dataset=val_dataset,\n",
    "                              batch_size=params[\"batch_size\"],\n",
    "                              shuffle=False)\n",
    "test_loader = get_dataloader(dataset=test_dataset,\n",
    "                              batch_size=params[\"batch_size\"],\n",
    "                              shuffle=False)"
   ]
  },
  {
   "cell_type": "code",
   "execution_count": 17,
   "metadata": {},
   "outputs": [],
   "source": [
    "# # 데이터로더 동작 확인\n",
    "# for i, (data, target) in enumerate(train_loader):\n",
    "#     print(i, data.shape, target.shape, data[0].shape)\n",
    "#     if i > 9:\n",
    "#         break"
   ]
  }
 ],
 "metadata": {
  "kernelspec": {
   "display_name": "Python 3",
   "language": "python",
   "name": "python3"
  },
  "language_info": {
   "codemirror_mode": {
    "name": "ipython",
    "version": 3
   },
   "file_extension": ".py",
   "mimetype": "text/x-python",
   "name": "python",
   "nbconvert_exporter": "python",
   "pygments_lexer": "ipython3",
   "version": "3.8.10"
  }
 },
 "nbformat": 4,
 "nbformat_minor": 2
}
