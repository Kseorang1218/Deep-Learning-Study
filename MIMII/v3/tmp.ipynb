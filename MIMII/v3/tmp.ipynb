{
 "cells": [
  {
   "cell_type": "code",
   "execution_count": 5,
   "metadata": {},
   "outputs": [
    {
     "data": {
      "text/plain": [
       "array([-0.00602722, -0.00476837, -0.00561523, ...,  0.00039673,\n",
       "        0.00221252,  0.00382996], dtype=float32)"
      ]
     },
     "execution_count": 5,
     "metadata": {},
     "output_type": "execute_result"
    }
   ],
   "source": [
    "import librosa\n",
    "\n",
    "normal_data = 'data/0_dB/fan/train/normal_id_00_00000001.wav'\n",
    "sr= 16000\n",
    "\n",
    "\n",
    "normal_data_l = librosa.load(normal_data, sr=sr)\n",
    "normal_data_l[0]"
   ]
  },
  {
   "cell_type": "code",
   "execution_count": 4,
   "metadata": {},
   "outputs": [
    {
     "data": {
      "text/plain": [
       "(array([[-0.00247192, -0.00735474, -0.00918579, ..., -0.00463867,\n",
       "         -0.00494385, -0.00479126],\n",
       "        [-0.00201416, -0.00762939, -0.00460815, ..., -0.00619507,\n",
       "         -0.00213623, -0.0043335 ],\n",
       "        [-0.00485229, -0.00613403, -0.003479  , ..., -0.00674438,\n",
       "         -0.00430298, -0.00494385],\n",
       "        ...,\n",
       "        [-0.00091553,  0.00317383,  0.00082397, ...,  0.00140381,\n",
       "          0.00186157, -0.00204468],\n",
       "        [ 0.00073242,  0.0032959 ,  0.00488281, ...,  0.00271606,\n",
       "          0.00204468,  0.00033569],\n",
       "        [ 0.00415039,  0.00500488,  0.00402832, ...,  0.00167847,\n",
       "          0.00341797,  0.00375366]]),\n",
       " 16000)"
      ]
     },
     "execution_count": 4,
     "metadata": {},
     "output_type": "execute_result"
    }
   ],
   "source": [
    "# print(normal_data)\n",
    "\n",
    "import soundfile\n",
    "\n",
    "normal_data = 'data/0_dB/fan/train/normal_id_00_00000001.wav'\n",
    "\n",
    "normal_data_s = soundfile.read(normal_data)\n",
    "normal_data_s"
   ]
  },
  {
   "cell_type": "code",
   "execution_count": null,
   "metadata": {},
   "outputs": [],
   "source": []
  }
 ],
 "metadata": {
  "kernelspec": {
   "display_name": "deep_learning_study",
   "language": "python",
   "name": "python3"
  },
  "language_info": {
   "codemirror_mode": {
    "name": "ipython",
    "version": 3
   },
   "file_extension": ".py",
   "mimetype": "text/x-python",
   "name": "python",
   "nbconvert_exporter": "python",
   "pygments_lexer": "ipython3",
   "version": "3.10.12"
  }
 },
 "nbformat": 4,
 "nbformat_minor": 2
}
