{
 "cells": [
  {
   "cell_type": "code",
   "execution_count": 1,
   "metadata": {},
   "outputs": [
    {
     "name": "stdout",
     "output_type": "stream",
     "text": [
      "./data/0_dB/fan.zip already exist.\n",
      "./data/0_dB/fan.zip already extracted.\n",
      "./data/0_dB/pump.zip already exist.\n",
      "./data/0_dB/pump.zip already extracted.\n",
      "./data/0_dB/slider.zip already exist.\n",
      "./data/0_dB/slider.zip already extracted.\n",
      "./data/0_dB/valve.zip already exist.\n",
      "./data/0_dB/valve.zip already extracted.\n"
     ]
    },
    {
     "name": "stderr",
     "output_type": "stream",
     "text": [
      "Processing fan - id_00 - abnormal: 407it [00:02, 151.80it/s]\n",
      "Processing fan - id_00 - normal: 1011it [00:05, 176.95it/s]\n",
      "Processing fan - id_02 - abnormal: 359it [00:01, 179.98it/s]\n",
      "Processing fan - id_02 - normal: 1016it [00:05, 178.62it/s]\n",
      "Processing fan - id_04 - abnormal: 348it [00:01, 177.75it/s]\n",
      "Processing fan - id_04 - normal: 1033it [00:05, 176.93it/s]\n",
      "Processing fan - id_06 - abnormal: 361it [00:02, 175.08it/s]\n",
      "Processing fan - id_06 - normal: 1015it [00:05, 176.34it/s]\n",
      "Processing pump - id_00 - abnormal: 143it [00:00, 178.33it/s]\n",
      "Processing pump - id_00 - normal: 1006it [00:05, 175.48it/s]\n",
      "Processing pump - id_02 - abnormal: 111it [00:00, 180.71it/s]\n",
      "Processing pump - id_02 - normal: 1005it [00:05, 177.82it/s]\n",
      "Processing pump - id_04 - abnormal: 100it [00:00, 181.35it/s]\n",
      "Processing pump - id_04 - normal: 702it [00:03, 177.67it/s]\n",
      "Processing pump - id_06 - abnormal: 102it [00:00, 181.63it/s]\n",
      "Processing pump - id_06 - normal: 1036it [00:05, 178.15it/s]\n",
      "Processing slider - id_00 - abnormal: 356it [00:02, 175.03it/s]\n",
      "Processing slider - id_00 - normal: 1068it [00:06, 177.07it/s]\n",
      "Processing slider - id_02 - abnormal: 267it [00:01, 179.01it/s]\n",
      "Processing slider - id_02 - normal: 1068it [00:05, 180.42it/s]\n",
      "Processing slider - id_04 - abnormal: 178it [00:00, 184.11it/s]\n",
      "Processing slider - id_04 - normal: 534it [00:02, 181.47it/s]\n",
      "Processing slider - id_06 - abnormal: 89it [00:00, 175.80it/s]\n",
      "Processing slider - id_06 - normal: 534it [00:02, 179.41it/s]\n",
      "Processing valve - id_00 - abnormal: 119it [00:00, 182.24it/s]\n",
      "Processing valve - id_00 - normal: 991it [00:05, 178.47it/s]\n",
      "Processing valve - id_02 - abnormal: 120it [00:00, 181.66it/s]\n",
      "Processing valve - id_02 - normal: 708it [00:03, 180.20it/s]\n",
      "Processing valve - id_04 - abnormal: 120it [00:00, 184.56it/s]\n",
      "Processing valve - id_04 - normal: 1000it [00:05, 180.08it/s]\n",
      "Processing valve - id_06 - abnormal: 120it [00:00, 183.39it/s]\n",
      "Processing valve - id_06 - normal: 992it [00:05, 174.78it/s]\n"
     ]
    }
   ],
   "source": [
    "from funs.download import *\n",
    "from funs.dataset import *\n",
    "from funs.utils import *\n",
    "from funs.databuilder import *\n",
    "from funs.model import STgramMFN\n",
    "from funs.trainer import Trainer\n",
    "from funs.loss import CrossEntropyLoss\n",
    "\n",
    "import os\n",
    "import torch\n",
    "\n",
    "from torch.utils.data import DataLoader\n",
    "\n",
    "config = load_yaml('./config.yaml')\n",
    "\n",
    "set_seed(config.seed)\n",
    "\n",
    "train_dirs = [os.path.join(config.data_dir, config.snr, train_dir) for train_dir in config.train_dirs]\n",
    "val_dirs = [os.path.join(config.data_dir, config.snr, val_dir) for val_dir in config.val_dirs]\n",
    "test_dirs = [os.path.join(config.data_dir, config.snr, test_dir) for test_dir in config.test_dirs]\n",
    "\n",
    "if torch.cuda.is_available():\n",
    "    device = torch.device('cuda')\n",
    "else:\n",
    "    device = torch.device('cpu')\n",
    "\n",
    "df = {}\n",
    "df = download_mimii(config.data_dir, config.snr, config.sample_rate)"
   ]
  },
  {
   "cell_type": "code",
   "execution_count": 12,
   "metadata": {},
   "outputs": [],
   "source": [
    "id_list = df['model_id'].unique()\n",
    "machine_list = df['machine_type'].unique()"
   ]
  },
  {
   "cell_type": "code",
   "execution_count": 3,
   "metadata": {},
   "outputs": [
    {
     "data": {
      "text/plain": [
       "{'fan-id_00': 0,\n",
       " 'fan-id_02': 1,\n",
       " 'fan-id_04': 2,\n",
       " 'fan-id_06': 3,\n",
       " 'pump-id_00': 4,\n",
       " 'pump-id_02': 5,\n",
       " 'pump-id_04': 6,\n",
       " 'pump-id_06': 7,\n",
       " 'slider-id_00': 8,\n",
       " 'slider-id_02': 9,\n",
       " 'slider-id_04': 10,\n",
       " 'slider-id_06': 11,\n",
       " 'valve-id_00': 12,\n",
       " 'valve-id_02': 13,\n",
       " 'valve-id_04': 14,\n",
       " 'valve-id_06': 15}"
      ]
     },
     "execution_count": 3,
     "metadata": {},
     "output_type": "execute_result"
    }
   ],
   "source": [
    "dic = {}\n",
    "\n",
    "label = 0\n",
    "for machine in machine_list:\n",
    "    for id in id_list:\n",
    "        dic[f'{machine}-{id}'] =  label\n",
    "        label += 1\n",
    "\n",
    "dic"
   ]
  },
  {
   "cell_type": "code",
   "execution_count": 4,
   "metadata": {},
   "outputs": [],
   "source": [
    "label_dic = make_meta2label(df)\n",
    "\n",
    "train_df, val_df, test_df = split_df(df, config.val_model_id, config.test_model_id, config.seed)"
   ]
  },
  {
   "cell_type": "code",
   "execution_count": 25,
   "metadata": {},
   "outputs": [],
   "source": [
    "train_data, train_label = build_from_dataframe(train_df)\n",
    "# val_data, val_label = build_from_dataframe(val_df)\n",
    "# test_data, test_label = build_from_dataframe(test_df)"
   ]
  },
  {
   "cell_type": "code",
   "execution_count": 7,
   "metadata": {},
   "outputs": [
    {
     "data": {
      "text/plain": [
       "array(['fan-id_00', 'fan-id_00', 'fan-id_00', ..., 'valve-id_06',\n",
       "       'valve-id_06', 'valve-id_06'], dtype=object)"
      ]
     },
     "execution_count": 7,
     "metadata": {},
     "output_type": "execute_result"
    }
   ],
   "source": [
    "# np.array(train_df['data'])\n",
    "# np.array(train_df[\"machine_type\"]+\"-\"+train_df[\"model_id\"])\n"
   ]
  },
  {
   "cell_type": "code",
   "execution_count": 8,
   "metadata": {},
   "outputs": [
    {
     "data": {
      "text/plain": [
       "array([array([-0.01203156, -0.01239395, -0.01213455, ..., -0.00082016,\n",
       "              -0.00095749, -0.00053024], dtype=float32)               ,\n",
       "       array([-0.00137329, -0.00251007, -0.00389862, ...,  0.00708008,\n",
       "               0.0063324 ,  0.00560379], dtype=float32)               ,\n",
       "       array([-0.001297  , -0.00344086, -0.00466156, ...,  0.00073624,\n",
       "               0.00021362,  0.00140762], dtype=float32)               ,\n",
       "       ...,\n",
       "       array([ 0.00022125,  0.00025558, -0.00016022, ..., -0.0045433 ,\n",
       "              -0.00326157, -0.00211334], dtype=float32)               ,\n",
       "       array([-0.00440216, -0.00170517,  0.00180817, ..., -0.00444412,\n",
       "              -0.00265121, -0.00074005], dtype=float32)               ,\n",
       "       array([-0.00255585, -0.00315094, -0.0022316 , ...,  0.00070572,\n",
       "              -0.00017166, -0.00183487], dtype=float32)               ],\n",
       "      dtype=object)"
      ]
     },
     "execution_count": 8,
     "metadata": {},
     "output_type": "execute_result"
    }
   ],
   "source": [
    "# np.array(train_df['data'])"
   ]
  },
  {
   "cell_type": "code",
   "execution_count": 24,
   "metadata": {},
   "outputs": [
    {
     "ename": "TypeError",
     "evalue": "build_from_dataframe() takes 1 positional argument but 2 were given",
     "output_type": "error",
     "traceback": [
      "\u001b[0;31m---------------------------------------------------------------------------\u001b[0m",
      "\u001b[0;31mTypeError\u001b[0m                                 Traceback (most recent call last)",
      "Cell \u001b[0;32mIn[24], line 1\u001b[0m\n\u001b[0;32m----> 1\u001b[0m train_data, train_label \u001b[38;5;241m=\u001b[39m \u001b[43mbuild_from_dataframe\u001b[49m\u001b[43m(\u001b[49m\u001b[43mtrain_df\u001b[49m\u001b[43m,\u001b[49m\u001b[43m \u001b[49m\u001b[43mdic\u001b[49m\u001b[43m)\u001b[49m\n\u001b[1;32m      2\u001b[0m \u001b[38;5;66;03m# train_df = MIMIIDataset(train_data, train_label, sample_rate)\u001b[39;00m\n",
      "\u001b[0;31mTypeError\u001b[0m: build_from_dataframe() takes 1 positional argument but 2 were given"
     ]
    }
   ],
   "source": [
    "train_data, train_label = build_from_dataframe(train_df, dic)\n",
    "# train_df = MIMIIDataset(train_data, train_label, sample_rate)"
   ]
  },
  {
   "cell_type": "code",
   "execution_count": null,
   "metadata": {},
   "outputs": [],
   "source": []
  }
 ],
 "metadata": {
  "kernelspec": {
   "display_name": "deep_learning_study",
   "language": "python",
   "name": "python3"
  },
  "language_info": {
   "codemirror_mode": {
    "name": "ipython",
    "version": 3
   },
   "file_extension": ".py",
   "mimetype": "text/x-python",
   "name": "python",
   "nbconvert_exporter": "python",
   "pygments_lexer": "ipython3",
   "version": "3.10.12"
  }
 },
 "nbformat": 4,
 "nbformat_minor": 2
}
