{
 "cells": [
  {
   "cell_type": "code",
   "execution_count": 1,
   "metadata": {},
   "outputs": [
    {
     "name": "stdout",
     "output_type": "stream",
     "text": [
      "../../data/mimii/0_dB/fan.zip already exist.\n",
      "../../data/mimii/0_dB/fan.zip already extracted.\n",
      "../../data/mimii/0_dB/pump.zip already exist.\n",
      "../../data/mimii/0_dB/pump.zip already extracted.\n",
      "../../data/mimii/0_dB/slider.zip already exist.\n",
      "../../data/mimii/0_dB/slider.zip already extracted.\n",
      "../../data/mimii/0_dB/valve.zip already exist.\n",
      "../../data/mimii/0_dB/valve.zip already extracted.\n"
     ]
    }
   ],
   "source": [
    "import download\n",
    "import pandas as pd\n",
    "import torchaudio.datasets\n",
    "\n",
    "df = download.download_mimii(\"../../data/mimii\", \"0_dB\")\n"
   ]
  },
  {
   "cell_type": "code",
   "execution_count": 2,
   "metadata": {},
   "outputs": [
    {
     "data": {
      "text/plain": [
       "label\n",
       "0    14719\n",
       "1     1475\n",
       "2      456\n",
       "3      890\n",
       "4      479\n",
       "Name: count, dtype: int64"
      ]
     },
     "execution_count": 2,
     "metadata": {},
     "output_type": "execute_result"
    }
   ],
   "source": [
    "# df[\"label\"].value_counts()\n",
    "df[\"label\"].value_counts().sort_index()"
   ]
  },
  {
   "cell_type": "code",
   "execution_count": 8,
   "metadata": {},
   "outputs": [
    {
     "name": "stdout",
     "output_type": "stream",
     "text": [
      "(18019, 2)\n",
      "(18019, 2)\n",
      "(18019, 2)\n"
     ]
    }
   ],
   "source": [
    "import databuilder\n",
    "train_df, val_df, test_df = databuilder.split_dataframe(df, 0.6, 0.2)\n",
    "print(train_df.shape)\n",
    "print(val_df.shape)\n",
    "print(test_df.shape)"
   ]
  },
  {
   "cell_type": "code",
   "execution_count": 5,
   "metadata": {},
   "outputs": [
    {
     "name": "stdout",
     "output_type": "stream",
     "text": [
      "(810855, 4096)\n"
     ]
    }
   ],
   "source": [
    "X_train, Y_train = databuilder.build_from_dataframe(train_df, 4096, 4096//2, False)\n",
    "X_val, Y_val = databuilder.build_from_dataframe(val_df, 4096, 4096//2, False)\n",
    "X_test, Y_test = databuilder.build_from_dataframe(test_df, 4096, 4096//2, False)\n",
    "print(X_train.shape)"
   ]
  },
  {
   "cell_type": "code",
   "execution_count": 9,
   "metadata": {},
   "outputs": [
    {
     "name": "stdout",
     "output_type": "stream",
     "text": [
      "[[ 2.0599365e-03  4.4326782e-03  6.5078735e-03 ... -1.8882751e-03\n",
      "  -2.3345947e-03 -3.1280518e-03]\n",
      " [ 2.9563904e-03  2.5138855e-03  3.0975342e-03 ...  9.1590881e-03\n",
      "   7.2135925e-03  7.3356628e-03]\n",
      " [-1.4266968e-03 -3.8146973e-06  8.0108643e-05 ... -6.1149597e-03\n",
      "  -5.3596497e-03 -4.7531128e-03]\n",
      " ...\n",
      " [-3.4980774e-03 -4.1923523e-03 -4.1732788e-03 ...  2.0599365e-04\n",
      "   1.0643005e-03  1.0108948e-03]\n",
      " [ 4.0817261e-04  2.6969910e-03  4.2304993e-03 ...  5.8746338e-03\n",
      "   4.3945312e-03  3.4751892e-03]\n",
      " [ 5.8364868e-04  3.0899048e-04  3.0899048e-04 ... -4.6539307e-04\n",
      "  -5.0735474e-04 -5.4550171e-04]]\n"
     ]
    }
   ],
   "source": [
    "print(X_train)"
   ]
  },
  {
   "cell_type": "code",
   "execution_count": null,
   "metadata": {},
   "outputs": [],
   "source": []
  }
 ],
 "metadata": {
  "kernelspec": {
   "display_name": "Python 3",
   "language": "python",
   "name": "python3"
  },
  "language_info": {
   "codemirror_mode": {
    "name": "ipython",
    "version": 3
   },
   "file_extension": ".py",
   "mimetype": "text/x-python",
   "name": "python",
   "nbconvert_exporter": "python",
   "pygments_lexer": "ipython3",
   "version": "3.8.10"
  }
 },
 "nbformat": 4,
 "nbformat_minor": 2
}
